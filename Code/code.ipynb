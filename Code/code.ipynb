{
 "cells": [
  {
   "cell_type": "code",
   "execution_count": 1,
   "metadata": {},
   "outputs": [
    {
     "name": "stderr",
     "output_type": "stream",
     "text": [
      "E:\\Anaconda\\lib\\site-packages\\xgboost\\compat.py:36: FutureWarning: pandas.Int64Index is deprecated and will be removed from pandas in a future version. Use pandas.Index with the appropriate dtype instead.\n",
      "  from pandas import MultiIndex, Int64Index\n"
     ]
    }
   ],
   "source": [
    "#Importing the necessary libraries and modules.\n",
    "%matplotlib inline\n",
    "import xgboost\n",
    "from xgboost import XGBRegressor as XGBR\n",
    "from sklearn.svm import SVR as svr\n",
    "from sklearn.linear_model import LinearRegression as Lr\n",
    "from sklearn.ensemble import RandomForestRegressor as RFR\n",
    "from sklearn.preprocessing import MinMaxScaler, StandardScaler\n",
    "from itertools import combinations \n",
    "from sklearn.pipeline import Pipeline\n",
    "import numpy as np\n",
    "import pandas as pd\n",
    "import matplotlib\n",
    "import matplotlib.pyplot as plt\n",
    "from sklearn.model_selection import LeaveOneOut, GridSearchCV, cross_val_score, train_test_split, KFold\n",
    "from sklearn.metrics import r2_score,mean_absolute_error as MSE\n",
    "import seaborn as sns\n",
    "import sys\n",
    "import warnings\n",
    "warnings.filterwarnings(\"ignore\")"
   ]
  },
  {
   "cell_type": "code",
   "execution_count": 2,
   "metadata": {},
   "outputs": [
    {
     "name": "stdout",
     "output_type": "stream",
     "text": [
      "jupyter core     : 4.7.1\n",
      "jupyter-notebook : 6.3.0\n",
      "qtconsole        : 5.0.3\n",
      "ipython          : 7.22.0\n",
      "ipykernel        : 5.3.4\n",
      "jupyter client   : 6.1.12\n",
      "jupyter lab      : 3.0.14\n",
      "nbconvert        : 6.0.7\n",
      "ipywidgets       : 7.6.3\n",
      "nbformat         : 5.1.3\n",
      "traitlets        : 5.0.5\n",
      "Python: 3.8.8 (default, Apr 13 2021, 15:08:03) [MSC v.1916 64 bit (AMD64)]\n",
      "Xgboost: 1.5.2\n",
      "pandas: 1.4.2\n",
      "numpy: 1.21.4\n",
      "matplotlib: 3.3.4\n"
     ]
    }
   ],
   "source": [
    "#The version number of the library or software package being used.\n",
    "!jupyter --version\n",
    "print('Python: {}'.format(sys.version))#sys.version\n",
    "print('Xgboost: {}'.format(xgboost.__version__))\n",
    "print('pandas: {}'.format(pd.__version__))\n",
    "print('numpy: {}'.format(np.__version__))\n",
    "print('matplotlib: {}'.format(matplotlib.__version__))"
   ]
  },
  {
   "cell_type": "code",
   "execution_count": 4,
   "metadata": {},
   "outputs": [
    {
     "name": "stdout",
     "output_type": "stream",
     "text": [
      "0 ['Numa']\n",
      "1 ['Ven']\n",
      "2 ['avg Ven']\n",
      "3 ['En']\n",
      "4 ['Arc']\n",
      "5 ['Numa', 'Ven']\n",
      "6 ['Numa', 'avg Ven']\n",
      "7 ['Numa', 'En']\n",
      "8 ['Numa', 'Arc']\n",
      "9 ['Ven', 'avg Ven']\n",
      "10 ['Ven', 'En']\n",
      "11 ['Ven', 'Arc']\n",
      "12 ['avg Ven', 'En']\n",
      "13 ['avg Ven', 'Arc']\n",
      "14 ['En', 'Arc']\n",
      "15 ['Numa', 'Ven', 'avg Ven']\n",
      "16 ['Numa', 'Ven', 'En']\n",
      "17 ['Numa', 'Ven', 'Arc']\n",
      "18 ['Numa', 'avg Ven', 'En']\n",
      "19 ['Numa', 'avg Ven', 'Arc']\n",
      "20 ['Numa', 'En', 'Arc']\n",
      "21 ['Ven', 'avg Ven', 'En']\n",
      "22 ['Ven', 'avg Ven', 'Arc']\n",
      "23 ['Ven', 'En', 'Arc']\n",
      "24 ['avg Ven', 'En', 'Arc']\n",
      "25 ['Numa', 'Ven', 'avg Ven', 'En']\n",
      "26 ['Numa', 'Ven', 'avg Ven', 'Arc']\n",
      "27 ['Numa', 'Ven', 'En', 'Arc']\n",
      "28 ['Numa', 'avg Ven', 'En', 'Arc']\n",
      "29 ['Ven', 'avg Ven', 'En', 'Arc']\n",
      "30 ['Numa', 'Ven', 'avg Ven', 'En', 'Arc']\n"
     ]
    }
   ],
   "source": [
    "#The column names of data set.\n",
    "columns_list = ['NiMn', 'Ni', 'Mn', 'Sn', 'Fe', 'Co', 'Cu', 'Al', 'Numa', 'anum', 'Ven', 'avg Ven', 'En','Arc', 'mass', 'T']\n",
    "\n",
    "#Retained features\n",
    "L = ['Numa', 'Ven', 'avg Ven', 'En', 'Arc']\n",
    "\n",
    "#Different combinations of features\n",
    "result_list = sum([list(map(list, combinations(L, i))) for i in range(1, len(L)+1)], []) \n",
    "for i, features in enumerate(result_list):\n",
    "    print(i, features)"
   ]
  },
  {
   "cell_type": "code",
   "execution_count": 5,
   "metadata": {},
   "outputs": [],
   "source": [
    "#Importing training set\n",
    "data_train = pd.read_csv('C:/Users/a/Desktop/training set.csv') #The address for reading data needs to be modified.\n",
    "xtrain = data_train.iloc[:, 1:15]\n",
    "x1 = data_train.iloc[0:, 1:8]  #Only element content as features\n",
    "ytrain = data_train.iloc[0:, 15:16] #label\n",
    "\n",
    "#Importing test sets\n",
    "data_test = pd.read_csv('C:/Users/a/Desktop/test set.csv') #The address for reading data needs to be modified.\n",
    "xtest = data_test.iloc[:, 1:15]\n",
    "x2 = data_test.iloc[:, 1:8]  #Only element content as features\n",
    "ytest = data_test.iloc[:, 15:16] #laber"
   ]
  },
  {
   "cell_type": "code",
   "execution_count": 6,
   "metadata": {},
   "outputs": [
    {
     "data": {
      "text/html": [
       "<div>\n",
       "<style scoped>\n",
       "    .dataframe tbody tr th:only-of-type {\n",
       "        vertical-align: middle;\n",
       "    }\n",
       "\n",
       "    .dataframe tbody tr th {\n",
       "        vertical-align: top;\n",
       "    }\n",
       "\n",
       "    .dataframe thead th {\n",
       "        text-align: right;\n",
       "    }\n",
       "</style>\n",
       "<table border=\"1\" class=\"dataframe\">\n",
       "  <thead>\n",
       "    <tr style=\"text-align: right;\">\n",
       "      <th></th>\n",
       "      <th>Ni</th>\n",
       "      <th>Mn</th>\n",
       "      <th>Sn</th>\n",
       "      <th>Fe</th>\n",
       "      <th>Co</th>\n",
       "      <th>Cu</th>\n",
       "      <th>Al</th>\n",
       "      <th>Numa</th>\n",
       "      <th>anum</th>\n",
       "      <th>Ven</th>\n",
       "      <th>avg Ven</th>\n",
       "      <th>En</th>\n",
       "      <th>Arc</th>\n",
       "      <th>mass</th>\n",
       "      <th>T</th>\n",
       "    </tr>\n",
       "  </thead>\n",
       "  <tbody>\n",
       "    <tr>\n",
       "      <th>count</th>\n",
       "      <td>111.000000</td>\n",
       "      <td>111.000000</td>\n",
       "      <td>111.000000</td>\n",
       "      <td>111.000000</td>\n",
       "      <td>111.000000</td>\n",
       "      <td>111.000000</td>\n",
       "      <td>111.000000</td>\n",
       "      <td>111.000000</td>\n",
       "      <td>111.000000</td>\n",
       "      <td>111.000000</td>\n",
       "      <td>111.000000</td>\n",
       "      <td>111.000000</td>\n",
       "      <td>111.000000</td>\n",
       "      <td>111.000000</td>\n",
       "      <td>111.000000</td>\n",
       "    </tr>\n",
       "    <tr>\n",
       "      <th>mean</th>\n",
       "      <td>44.827477</td>\n",
       "      <td>41.622703</td>\n",
       "      <td>10.613964</td>\n",
       "      <td>0.658108</td>\n",
       "      <td>1.627027</td>\n",
       "      <td>0.594595</td>\n",
       "      <td>0.049550</td>\n",
       "      <td>3.738739</td>\n",
       "      <td>29.053631</td>\n",
       "      <td>8.086868</td>\n",
       "      <td>0.278530</td>\n",
       "      <td>1.764117</td>\n",
       "      <td>1.293365</td>\n",
       "      <td>63.494190</td>\n",
       "      <td>295.676577</td>\n",
       "    </tr>\n",
       "    <tr>\n",
       "      <th>std</th>\n",
       "      <td>4.518164</td>\n",
       "      <td>5.681546</td>\n",
       "      <td>2.664362</td>\n",
       "      <td>1.701696</td>\n",
       "      <td>2.743785</td>\n",
       "      <td>1.711609</td>\n",
       "      <td>0.285681</td>\n",
       "      <td>0.583278</td>\n",
       "      <td>0.700563</td>\n",
       "      <td>0.162298</td>\n",
       "      <td>0.009747</td>\n",
       "      <td>0.021077</td>\n",
       "      <td>0.009008</td>\n",
       "      <td>1.712275</td>\n",
       "      <td>120.962169</td>\n",
       "    </tr>\n",
       "    <tr>\n",
       "      <th>min</th>\n",
       "      <td>36.000000</td>\n",
       "      <td>26.000000</td>\n",
       "      <td>1.000000</td>\n",
       "      <td>0.000000</td>\n",
       "      <td>0.000000</td>\n",
       "      <td>0.000000</td>\n",
       "      <td>0.000000</td>\n",
       "      <td>3.000000</td>\n",
       "      <td>27.050000</td>\n",
       "      <td>7.840000</td>\n",
       "      <td>0.264527</td>\n",
       "      <td>1.727800</td>\n",
       "      <td>1.260000</td>\n",
       "      <td>58.242000</td>\n",
       "      <td>84.500000</td>\n",
       "    </tr>\n",
       "    <tr>\n",
       "      <th>25%</th>\n",
       "      <td>41.000000</td>\n",
       "      <td>37.000000</td>\n",
       "      <td>9.000000</td>\n",
       "      <td>0.000000</td>\n",
       "      <td>0.000000</td>\n",
       "      <td>0.000000</td>\n",
       "      <td>0.000000</td>\n",
       "      <td>3.000000</td>\n",
       "      <td>28.665000</td>\n",
       "      <td>7.960000</td>\n",
       "      <td>0.272483</td>\n",
       "      <td>1.743950</td>\n",
       "      <td>1.289200</td>\n",
       "      <td>62.577100</td>\n",
       "      <td>214.500000</td>\n",
       "    </tr>\n",
       "    <tr>\n",
       "      <th>50%</th>\n",
       "      <td>44.000000</td>\n",
       "      <td>40.000000</td>\n",
       "      <td>10.000000</td>\n",
       "      <td>0.000000</td>\n",
       "      <td>0.000000</td>\n",
       "      <td>0.000000</td>\n",
       "      <td>0.000000</td>\n",
       "      <td>4.000000</td>\n",
       "      <td>28.860000</td>\n",
       "      <td>8.082000</td>\n",
       "      <td>0.276328</td>\n",
       "      <td>1.766500</td>\n",
       "      <td>1.293250</td>\n",
       "      <td>63.126200</td>\n",
       "      <td>283.000000</td>\n",
       "    </tr>\n",
       "    <tr>\n",
       "      <th>75%</th>\n",
       "      <td>50.000000</td>\n",
       "      <td>47.000000</td>\n",
       "      <td>12.750000</td>\n",
       "      <td>0.000000</td>\n",
       "      <td>2.000000</td>\n",
       "      <td>0.000000</td>\n",
       "      <td>0.000000</td>\n",
       "      <td>4.000000</td>\n",
       "      <td>29.613000</td>\n",
       "      <td>8.141000</td>\n",
       "      <td>0.280937</td>\n",
       "      <td>1.781530</td>\n",
       "      <td>1.298845</td>\n",
       "      <td>64.827015</td>\n",
       "      <td>335.000000</td>\n",
       "    </tr>\n",
       "    <tr>\n",
       "      <th>max</th>\n",
       "      <td>51.200000</td>\n",
       "      <td>52.000000</td>\n",
       "      <td>15.500000</td>\n",
       "      <td>10.000000</td>\n",
       "      <td>11.000000</td>\n",
       "      <td>9.000000</td>\n",
       "      <td>2.000000</td>\n",
       "      <td>5.000000</td>\n",
       "      <td>30.375000</td>\n",
       "      <td>8.770000</td>\n",
       "      <td>0.324214</td>\n",
       "      <td>1.815400</td>\n",
       "      <td>1.309250</td>\n",
       "      <td>66.699350</td>\n",
       "      <td>730.500000</td>\n",
       "    </tr>\n",
       "  </tbody>\n",
       "</table>\n",
       "</div>"
      ],
      "text/plain": [
       "               Ni          Mn          Sn          Fe          Co          Cu  \\\n",
       "count  111.000000  111.000000  111.000000  111.000000  111.000000  111.000000   \n",
       "mean    44.827477   41.622703   10.613964    0.658108    1.627027    0.594595   \n",
       "std      4.518164    5.681546    2.664362    1.701696    2.743785    1.711609   \n",
       "min     36.000000   26.000000    1.000000    0.000000    0.000000    0.000000   \n",
       "25%     41.000000   37.000000    9.000000    0.000000    0.000000    0.000000   \n",
       "50%     44.000000   40.000000   10.000000    0.000000    0.000000    0.000000   \n",
       "75%     50.000000   47.000000   12.750000    0.000000    2.000000    0.000000   \n",
       "max     51.200000   52.000000   15.500000   10.000000   11.000000    9.000000   \n",
       "\n",
       "               Al        Numa        anum         Ven     avg Ven          En  \\\n",
       "count  111.000000  111.000000  111.000000  111.000000  111.000000  111.000000   \n",
       "mean     0.049550    3.738739   29.053631    8.086868    0.278530    1.764117   \n",
       "std      0.285681    0.583278    0.700563    0.162298    0.009747    0.021077   \n",
       "min      0.000000    3.000000   27.050000    7.840000    0.264527    1.727800   \n",
       "25%      0.000000    3.000000   28.665000    7.960000    0.272483    1.743950   \n",
       "50%      0.000000    4.000000   28.860000    8.082000    0.276328    1.766500   \n",
       "75%      0.000000    4.000000   29.613000    8.141000    0.280937    1.781530   \n",
       "max      2.000000    5.000000   30.375000    8.770000    0.324214    1.815400   \n",
       "\n",
       "              Arc        mass           T  \n",
       "count  111.000000  111.000000  111.000000  \n",
       "mean     1.293365   63.494190  295.676577  \n",
       "std      0.009008    1.712275  120.962169  \n",
       "min      1.260000   58.242000   84.500000  \n",
       "25%      1.289200   62.577100  214.500000  \n",
       "50%      1.293250   63.126200  283.000000  \n",
       "75%      1.298845   64.827015  335.000000  \n",
       "max      1.309250   66.699350  730.500000  "
      ]
     },
     "execution_count": 6,
     "metadata": {},
     "output_type": "execute_result"
    }
   ],
   "source": [
    "data_train.describe()"
   ]
  },
  {
   "cell_type": "code",
   "execution_count": 7,
   "metadata": {
    "tags": []
   },
   "outputs": [
    {
     "name": "stdout",
     "output_type": "stream",
     "text": [
      "<class 'pandas.core.frame.DataFrame'>\n",
      "RangeIndex: 111 entries, 0 to 110\n",
      "Data columns (total 16 columns):\n",
      " #   Column   Non-Null Count  Dtype  \n",
      "---  ------   --------------  -----  \n",
      " 0   NiMn     111 non-null    object \n",
      " 1   Ni       111 non-null    float64\n",
      " 2   Mn       111 non-null    float64\n",
      " 3   Sn       111 non-null    float64\n",
      " 4   Fe       111 non-null    float64\n",
      " 5   Co       111 non-null    float64\n",
      " 6   Cu       111 non-null    float64\n",
      " 7   Al       111 non-null    float64\n",
      " 8   Numa     111 non-null    int64  \n",
      " 9   anum     111 non-null    float64\n",
      " 10  Ven      111 non-null    float64\n",
      " 11  avg Ven  111 non-null    float64\n",
      " 12  En       111 non-null    float64\n",
      " 13  Arc      111 non-null    float64\n",
      " 14  mass     111 non-null    float64\n",
      " 15  T        111 non-null    float64\n",
      "dtypes: float64(14), int64(1), object(1)\n",
      "memory usage: 14.0+ KB\n"
     ]
    }
   ],
   "source": [
    "data_train.info()"
   ]
  },
  {
   "cell_type": "code",
   "execution_count": 8,
   "metadata": {},
   "outputs": [],
   "source": [
    "#Data set shuffling method for k-CV of different models\n",
    "dict_random_state = {\n",
    "    'Lr/3-cv': [*range(4, 50, 10)],\n",
    "    'Lr/5-cv': [*range(10, 60, 10)],\n",
    "    \"svr/3-cv\": [*range(0, 25, 5)],\n",
    "     \"svr/5-cv\": [*range(1, 20, 4)],\n",
    "     \"RFR/3-cv\": [*range(5, 30, 5)],\n",
    "     \"RFR/5-cv\": [*range(0, 25, 5)],\n",
    "     'XGBR/3-cv': [*range(5, 30, 5)],\n",
    "     'XGBR/5-cv': [*range(40, 65, 5)]\n",
    "    }\n",
    "\n",
    "#Different model instantiations are used for K-CV\n",
    "dict_modelclf = {\n",
    "    'Lr/3-cv': Lr(),\n",
    "    'Lr/5-cv': Lr(),\n",
    "    \"svr/3-cv\": svr(kernel='linear'),\n",
    "     \"svr/5-cv\": svr(kernel='linear'),\n",
    "     \"RFR/3-cv\": RFR(random_state=0),\n",
    "     \"RFR/5-cv\": RFR(random_state=0),\n",
    "     'XGBR/3-cv': XGBR(n_estimators=147, learning_rate=0.1, random_state=0), #The optimal parameters obtained by grid search method\n",
    "     'XGBR/5-cv': XGBR(n_estimators=147, learning_rate=0.1, random_state=0)\n",
    "}\n",
    "\n",
    "\n",
    "'''\n",
    "#The optimal feature combination of different models, \n",
    "#where the number is the index of the feature combination in result_list.\n",
    "'''\n",
    "dict_featurebest= {\n",
    "    'Lr/3-cv': 29,\n",
    "    'Lr/5-cv': 29,\n",
    "    \"svr/3-cv\": 4,\n",
    "     \"svr/5-cv\": 4,\n",
    "     \"RFR/3-cv\": 8,\n",
    "     \"RFR/5-cv\": 8,\n",
    "     'XGBR/3-cv':19 ,\n",
    "     'XGBR/5-cv': 19,\n",
    "}\n",
    "\n",
    "'''\n",
    "Instantiation of the different models, the optimal combination of features and the model name, \n",
    "where the number is the index of the combination of features in the result_list.\n",
    "'''\n",
    "four_model = [\n",
    "    [Lr(), 29, 'LinearRegression'],\n",
    "    [svr(kernel='linear'), 4, 'SVR.Linear'],\n",
    "    [RFR(random_state=0), 8, 'RandomForestRegressor'],\n",
    "    [XGBR(n_estimators=147, learning_rate=0.1, random_state=0), 19, 'XGBRegressor']\n",
    "    ]"
   ]
  },
  {
   "cell_type": "code",
   "execution_count": 9,
   "metadata": {},
   "outputs": [
    {
     "name": "stdout",
     "output_type": "stream",
     "text": [
      "0.713 6.887\n"
     ]
    },
    {
     "data": {
      "image/png": "[encoded data removed]",
      "text/plain": [
       "<Figure size 432x288 with 1 Axes>"
      ]
     },
     "metadata": {
      "needs_background": "light"
     },
     "output_type": "display_data"
    },
    {
     "name": "stdout",
     "output_type": "stream",
     "text": [
      "0.641 6.913\n"
     ]
    },
    {
     "data": {
      "image/png": "[encoded data removed]",
      "text/plain": [
       "<Figure size 432x288 with 1 Axes>"
      ]
     },
     "metadata": {
      "needs_background": "light"
     },
     "output_type": "display_data"
    },
    {
     "name": "stdout",
     "output_type": "stream",
     "text": [
      "0.883 5.549\n"
     ]
    },
    {
     "data": {
      "image/png": "[encoded data removed]",
      "text/plain": [
       "<Figure size 432x288 with 1 Axes>"
      ]
     },
     "metadata": {
      "needs_background": "light"
     },
     "output_type": "display_data"
    },
    {
     "name": "stdout",
     "output_type": "stream",
     "text": [
      "0.903 5.4\n"
     ]
    },
    {
     "data": {
      "image/png": "[encoded data removed]",
      "text/plain": [
       "<Figure size 432x288 with 1 Axes>"
      ]
     },
     "metadata": {
      "needs_background": "light"
     },
     "output_type": "display_data"
    }
   ],
   "source": [
    "'''\n",
    "Comparison of the predicted value and the true value of Tm obtained by the LOO-CV \n",
    "of different models (LR, SVR.linear, RFR, and XGBR).\n",
    "'''\n",
    "for Model in four_model:\n",
    "    data1 = xtrain.loc[:, result_list[Model[1]]]\n",
    "    x = pd.concat([x1, data1], axis=1)\n",
    "    x = np.array(x)\n",
    "    y = np.array(ytrain)\n",
    "    \n",
    "    model = Model[0]\n",
    "    loo = LeaveOneOut()\n",
    "    a_test, b_pre = [], []\n",
    "    for train, test in loo.split(x,y):\n",
    "        train_X, test_X, train_y, test_y = x[train], x[test], y[train], y[test]\n",
    "        model = model.fit(train_X, train_y)\n",
    "        predicted = model.predict(test_X)\n",
    "        plt.title(Model[2])\n",
    "        plt.scatter(test_y, predicted, s=5)\n",
    "        plt.xlim(0, 800)\n",
    "        plt.ylim(0, 800)\n",
    "        plt.xlabel(\"Measured /k\")\n",
    "        plt.ylabel(\"Predicted /k\")\n",
    "        plt.plot(range(800), range(800), linewidth=0.1)\n",
    "        a_test.append(test_y)\n",
    "        b_pre.append(predicted)\n",
    "        \n",
    "    a_test = np.ravel(a_test)\n",
    "    b_pre = np.ravel(b_pre)\n",
    "    R2 = r2_score(a_test, b_pre)\n",
    "    RMSE = np.sqrt(MSE(a_test, b_pre))\n",
    "    \n",
    "    print(round(R2, 3),round(RMSE, 3))\n",
    "    plt.show()"
   ]
  },
  {
   "cell_type": "code",
   "execution_count": 10,
   "metadata": {},
   "outputs": [
    {
     "name": "stdout",
     "output_type": "stream",
     "text": [
      "Lr/3-cv 0.675\n",
      "Lr/5-cv 0.648\n",
      "svr/3-cv 0.613\n",
      "svr/5-cv 0.608\n",
      "RFR/3-cv 0.818\n",
      "RFR/5-cv 0.819\n",
      "XGBR/3-cv 0.838\n",
      "XGBR/5-cv 0.869\n"
     ]
    }
   ],
   "source": [
    "'''\n",
    "To verify the generalization of each model using K-fold (3-fold and 5-fold) Cross-Validation. \n",
    "To reduce the occasionality of dividing the data set by K-fold Cross-Validation, \n",
    "3-fold and 5-fold Cross-Validation have been used to do five times cross-validations, re-shuffle the \n",
    "data set each time, and finally take the average score of five Cross-Validations.\n",
    "'''\n",
    "for i in dict_random_state:\n",
    "    scores = []\n",
    "    data0 = xtrain.loc[:, result_list[dict_featurebest[i]]]\n",
    "    x = pd.concat([x1, data0], axis=1)\n",
    "    x = np.array(x)\n",
    "    y = np.array(ytrain)\n",
    "    \n",
    "    for j in dict_random_state[i]:\n",
    "        clf = dict_modelclf[i]\n",
    "        r2_list = []\n",
    "        r2 = []\n",
    "        KF = KFold(shuffle=True, random_state=j, n_splits=int(i.split('/')[1][0]))\n",
    "        for train, val in KF.split(x):\n",
    "            X_train = x[train]\n",
    "            y_train = y[train]\n",
    "            X_val = x[val]\n",
    "            y_val = y[val]\n",
    "            clf = clf.fit(X_train, y_train)\n",
    "            predicted = clf.predict(X_val)\n",
    "            r2_list.append(r2_score(y_val, predicted))\n",
    "        r2 = np.mean(r2_list)\n",
    "        scores.append(r2)\n",
    "        \n",
    "    print(i, round(np.mean(scores), 3))"
   ]
  },
  {
   "cell_type": "code",
   "execution_count": 11,
   "metadata": {},
   "outputs": [],
   "source": [
    "#The training set and test set are treated by the same ways.\n",
    "data2 = xtrain.loc[:, result_list[19]]\n",
    "data3 = xtest.loc[:, result_list[19]]\n",
    "Xtrain = pd.concat([x1, data2], axis=1)\n",
    "x2_test = pd.concat([x2, data3], axis=1)\n",
    "\n",
    "#Train the entire training set and predict the test set using XGBR model\n",
    "clff = XGBR(n_estimators=147, learning_rate=0.1, random_state=0).fit(Xtrain, ytrain)\n",
    "y2_pre = clff.predict(x2_test)"
   ]
  },
  {
   "cell_type": "code",
   "execution_count": 12,
   "metadata": {},
   "outputs": [
    {
     "data": {
      "text/html": [
       "<div>\n",
       "<style scoped>\n",
       "    .dataframe tbody tr th:only-of-type {\n",
       "        vertical-align: middle;\n",
       "    }\n",
       "\n",
       "    .dataframe tbody tr th {\n",
       "        vertical-align: top;\n",
       "    }\n",
       "\n",
       "    .dataframe thead th {\n",
       "        text-align: right;\n",
       "    }\n",
       "</style>\n",
       "<table border=\"1\" class=\"dataframe\">\n",
       "  <thead>\n",
       "    <tr style=\"text-align: right;\">\n",
       "      <th></th>\n",
       "      <th>NiMn</th>\n",
       "      <th>True</th>\n",
       "      <th>predict</th>\n",
       "    </tr>\n",
       "  </thead>\n",
       "  <tbody>\n",
       "    <tr>\n",
       "      <th>0</th>\n",
       "      <td>Ni50Mn36.5Sn13.5</td>\n",
       "      <td>282.0</td>\n",
       "      <td>287.080750</td>\n",
       "    </tr>\n",
       "    <tr>\n",
       "      <th>1</th>\n",
       "      <td>Ni43Mn46Sn10Al1</td>\n",
       "      <td>262.5</td>\n",
       "      <td>276.705444</td>\n",
       "    </tr>\n",
       "    <tr>\n",
       "      <th>2</th>\n",
       "      <td>Ni45.3Mn35.9Cu4.5Sn14.3</td>\n",
       "      <td>159.0</td>\n",
       "      <td>155.898926</td>\n",
       "    </tr>\n",
       "    <tr>\n",
       "      <th>3</th>\n",
       "      <td>Ni45Mn39Fe5Sn11</td>\n",
       "      <td>295.0</td>\n",
       "      <td>309.107025</td>\n",
       "    </tr>\n",
       "    <tr>\n",
       "      <th>4</th>\n",
       "      <td>Ni50Mn41Sn8Co1</td>\n",
       "      <td>544.0</td>\n",
       "      <td>529.045654</td>\n",
       "    </tr>\n",
       "  </tbody>\n",
       "</table>\n",
       "</div>"
      ],
      "text/plain": [
       "                      NiMn   True     predict\n",
       "0         Ni50Mn36.5Sn13.5  282.0  287.080750\n",
       "1          Ni43Mn46Sn10Al1  262.5  276.705444\n",
       "2  Ni45.3Mn35.9Cu4.5Sn14.3  159.0  155.898926\n",
       "3          Ni45Mn39Fe5Sn11  295.0  309.107025\n",
       "4           Ni50Mn41Sn8Co1  544.0  529.045654"
      ]
     },
     "execution_count": 12,
     "metadata": {},
     "output_type": "execute_result"
    }
   ],
   "source": [
    "#Compare the true and predicted values of the test set.\n",
    "test_pre = pd.concat([data_test.loc[:, ['NiMn']], ytest, pd.DataFrame(y2_pre)], axis=1)\n",
    "test_pre.rename(columns={'T': 'True', 0: 'predict'}, inplace=True)\n",
    "test_pre"
   ]
  },
  {
   "cell_type": "code",
   "execution_count": null,
   "metadata": {},
   "outputs": [],
   "source": []
  }
 ],
 "metadata": {
  "kernelspec": {
   "display_name": "Python 3",
   "language": "python",
   "name": "python3"
  },
  "language_info": {
   "codemirror_mode": {
    "name": "ipython",
    "version": 3
   },
   "file_extension": ".py",
   "mimetype": "text/x-python",
   "name": "python",
   "nbconvert_exporter": "python",
   "pygments_lexer": "ipython3",
   "version": "3.8.8"
  }
 },
 "nbformat": 4,
 "nbformat_minor": 4
}
